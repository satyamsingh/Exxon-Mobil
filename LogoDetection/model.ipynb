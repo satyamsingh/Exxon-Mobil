{
 "cells": [
  {
   "cell_type": "code",
   "execution_count": 55,
   "metadata": {},
   "outputs": [],
   "source": [
    "import tensorflow as tf\n",
    "import numpy as np\n",
    "from six.moves import cPickle as pickle\n",
    "import skimage.io\n",
    "#from misc import *\n",
    "from scipy.misc import imresize\n",
    "import matplotlib.pyplot as plt\n",
    "import matplotlib.patches as mpatches\n",
    "import os"
   ]
  },
  {
   "cell_type": "code",
   "execution_count": 2,
   "metadata": {
    "collapsed": true
   },
   "outputs": [],
   "source": [
    "NUM_CLASSES = 28 #27 types of logos +1 for background\n",
    "BATCH_SIZE = 64\n",
    "TRAIN_SIZE = 70000\n",
    "VALID_SIZE = 5000\n",
    "TEST_SIZE = 5000\n",
    "CLASS_NAME = [\n",
    "    'Adidas', 'Apple', 'BMW', 'Citroen', 'Cocacola', 'DHL', 'Fedex', 'Ferrari',\n",
    "    'Ford', 'Google', 'HP', 'Heineken', 'Intel', 'McDonalds', 'Mini', 'Nbc',\n",
    "    'Nike', 'Pepsi', 'Porsche', 'Puma', 'RedBull', 'Sprite', 'Starbucks',\n",
    "    'Texaco', 'Unicef', 'Vodafone', 'Yahoo', 'Background'\n",
    "]"
   ]
  },
  {
   "cell_type": "code",
   "execution_count": 3,
   "metadata": {
    "collapsed": true
   },
   "outputs": [],
   "source": [
    "def forward_pass(x,y):\n",
    "    #Xavier Initializer to get better initialization of weights of the network\n",
    "    initializer = tf.contrib.layers.xavier_initializer()\n",
    "    #Convolutional Layers\n",
    "    a1 = tf.layers.conv2d(x,32,3,padding = 'SAME',activation=tf.nn.relu,kernel_initializer=initializer)\n",
    "    p1 = tf.nn.max_pool(a1,[1,2,2,1],[1,2,2,1],padding='SAME')\n",
    "    a2 = tf.layers.conv2d(p1,64,3,padding='SAME',activation=tf.nn.relu,kernel_initializer=initializer)\n",
    "    p2 = tf.nn.max_pool(a2,[1,2,2,1],[1,2,2,1],padding = 'SAME')\n",
    "    a3 = tf.layers.conv2d(p2,128,3,padding='SAME',activation=tf.nn.relu,kernel_initializer=initializer)\n",
    "    p3 = tf.nn.max_pool(a3,[1,2,2,1],[1,2,2,1],padding = 'SAME')\n",
    "    #Fully Connected Layers\n",
    "    flat = tf.contrib.layers.flatten(p3)\n",
    "    d1 = tf.layers.dense(flat,2048,activation = tf.nn.relu)\n",
    "    d2 = tf.layers.dense(d1,NUM_CLASSES)\n",
    "    preds = tf.nn.softmax(d2)\n",
    "    #Loss\n",
    "    loss = tf.reduce_mean(tf.nn.sparse_softmax_cross_entropy_with_logits(logits=d2,labels=y))\n",
    "    \n",
    "    return preds,loss"
   ]
  },
  {
   "cell_type": "code",
   "execution_count": 4,
   "metadata": {
    "collapsed": true
   },
   "outputs": [],
   "source": [
    "def get_solver(lr):\n",
    "    return tf.train.AdamOptimizer(learning_rate=lr)"
   ]
  },
  {
   "cell_type": "code",
   "execution_count": 6,
   "metadata": {},
   "outputs": [
    {
     "name": "stdout",
     "output_type": "stream",
     "text": [
      "Training set (70000, 32, 64, 3) (70000,)\n",
      "Valid set (5000, 32, 64, 3) (5000,)\n",
      "Test set (5000, 32, 64, 3) (5000,)\n"
     ]
    }
   ],
   "source": [
    "with open('deep_logo.pickle','rb') as pk:\n",
    "    pick = pickle.load(pk)\n",
    "    train_dataset = pick['train_dataset']\n",
    "    train_labels = pick['train_labels']\n",
    "    valid_dataset = pick['valid_dataset']\n",
    "    valid_labels = pick['valid_labels']\n",
    "    test_dataset = pick['test_dataset']\n",
    "    test_labels = pick['test_labels']\n",
    "    del pick\n",
    "    print('Training set', train_dataset.shape, train_labels.shape)\n",
    "    print('Valid set', valid_dataset.shape, valid_labels.shape)\n",
    "    print('Test set', test_dataset.shape, test_labels.shape)\n"
   ]
  },
  {
   "cell_type": "code",
   "execution_count": 5,
   "metadata": {
    "collapsed": true
   },
   "outputs": [],
   "source": [
    "input_pl = tf.placeholder(tf.float32, shape = [None,32,64,3])\n",
    "output_pl = tf.placeholder(tf.int32,shape = [None])"
   ]
  },
  {
   "cell_type": "code",
   "execution_count": 6,
   "metadata": {
    "collapsed": true
   },
   "outputs": [],
   "source": [
    "preds,loss = forward_pass(input_pl,output_pl)\n",
    "solver = get_solver(0.0001)\n",
    "train_step =solver.minimize(loss)"
   ]
  },
  {
   "cell_type": "code",
   "execution_count": 7,
   "metadata": {},
   "outputs": [
    {
     "data": {
      "text/plain": [
       "TensorShape([])"
      ]
     },
     "execution_count": 7,
     "metadata": {},
     "output_type": "execute_result"
    }
   ],
   "source": [
    "loss.shape"
   ]
  },
  {
   "cell_type": "code",
   "execution_count": 8,
   "metadata": {
    "collapsed": true
   },
   "outputs": [],
   "source": [
    "def train(input_pl, output_pl, train_step,loss,preds, num_epochs=10,print_every=100):\n",
    "    iter_per_epoch = TRAIN_SIZE//BATCH_SIZE\n",
    "    with tf.Session() as sess:\n",
    "        saver = tf.train.Saver()\n",
    "        sess.run(tf.global_variables_initializer())\n",
    "        ckpt = tf.train.latest_checkpoint(\"checkpoints/\")\n",
    "        if ckpt:\n",
    "            print(\"Loading model checkpoint...\")\n",
    "            saver.restore(sess,ckpt)\n",
    "        else:\n",
    "            print(\"No checkpoint found\")\n",
    "            \n",
    "        for i in range(num_epochs):\n",
    "            batch = 0\n",
    "            for j in range(iter_per_epoch):\n",
    "                x_batch = train_dataset[batch:(batch+BATCH_SIZE)%TRAIN_SIZE]\n",
    "                y_batch = train_labels[batch:(batch+BATCH_SIZE)%TRAIN_SIZE]\n",
    "                feed_dict = {input_pl:x_batch,output_pl:y_batch}\n",
    "                train_loss,_ = sess.run([loss,train_step],feed_dict)\n",
    "                if (j+1)%print_every==0:\n",
    "                    print(\"Epoch \",i,\" Iteration \",j,\"Loss: \",train_loss)\n",
    "                    \n",
    "                batch += BATCH_SIZE\n",
    "            saver.save(sess,'checkpoints/logo')\n",
    "            #Testing on validation set\n",
    "            iters = VALID_SIZE//BATCH_SIZE\n",
    "            batch = 0\n",
    "            avg_accuracy = 0\n",
    "            for j in range(iters):\n",
    "                val_x_batch = valid_dataset[batch:(batch+BATCH_SIZE)%VALID_SIZE]\n",
    "                val_y_batch = valid_labels[batch:(batch+BATCH_SIZE)%VALID_SIZE]\n",
    "                feed_dict = {input_pl: val_x_batch, output_pl: val_y_batch}\n",
    "                val_preds = sess.run(preds,feed_dict)\n",
    "                val_preds = np.argmax(val_preds,axis = 1)\n",
    "                accuracy = np.mean(val_preds==val_y_batch)\n",
    "                avg_accuracy += accuracy\n",
    "            avg_accuracy = avg_accuracy/iters;\n",
    "            print(avg_accuracy)"
   ]
  },
  {
   "cell_type": "code",
   "execution_count": 71,
   "metadata": {},
   "outputs": [
    {
     "name": "stdout",
     "output_type": "stream",
     "text": [
      "Loading model checkpoint...\n",
      "INFO:tensorflow:Restoring parameters from checkpoints/logo\n",
      "Epoch  0  Iteration  99 Loss:  1.77505\n",
      "Epoch  0  Iteration  199 Loss:  1.40012\n",
      "Epoch  0  Iteration  299 Loss:  0.932979\n",
      "Epoch  0  Iteration  399 Loss:  0.576982\n",
      "Epoch  0  Iteration  499 Loss:  0.509377\n",
      "Epoch  0  Iteration  599 Loss:  0.350101\n",
      "Epoch  0  Iteration  699 Loss:  0.322804\n",
      "Epoch  0  Iteration  799 Loss:  0.15933\n",
      "Epoch  0  Iteration  899 Loss:  0.114658\n",
      "Epoch  0  Iteration  999 Loss:  0.154682\n",
      "0.9375\n",
      "Epoch  1  Iteration  99 Loss:  0.177463\n",
      "Epoch  1  Iteration  199 Loss:  0.406561\n",
      "Epoch  1  Iteration  299 Loss:  0.0994828\n",
      "Epoch  1  Iteration  399 Loss:  0.142492\n",
      "Epoch  1  Iteration  499 Loss:  0.160428\n",
      "Epoch  1  Iteration  599 Loss:  0.134906\n",
      "Epoch  1  Iteration  699 Loss:  0.131855\n",
      "Epoch  1  Iteration  799 Loss:  0.0622789\n",
      "Epoch  1  Iteration  899 Loss:  0.0336238\n",
      "Epoch  1  Iteration  999 Loss:  0.0327782\n",
      "0.953125\n",
      "Epoch  2  Iteration  99 Loss:  0.0602654\n",
      "Epoch  2  Iteration  199 Loss:  0.233077\n",
      "Epoch  2  Iteration  299 Loss:  0.0440589\n",
      "Epoch  2  Iteration  399 Loss:  0.0635018\n",
      "Epoch  2  Iteration  499 Loss:  0.0818226\n",
      "Epoch  2  Iteration  599 Loss:  0.0431595\n",
      "Epoch  2  Iteration  699 Loss:  0.0665664\n",
      "Epoch  2  Iteration  799 Loss:  0.0203556\n",
      "Epoch  2  Iteration  899 Loss:  0.0333712\n",
      "Epoch  2  Iteration  999 Loss:  0.0138097\n",
      "0.96875\n",
      "Epoch  3  Iteration  99 Loss:  0.0259425\n",
      "Epoch  3  Iteration  199 Loss:  0.0952514\n",
      "Epoch  3  Iteration  299 Loss:  0.033699\n",
      "Epoch  3  Iteration  399 Loss:  0.0362934\n",
      "Epoch  3  Iteration  499 Loss:  0.0177987\n",
      "Epoch  3  Iteration  599 Loss:  0.0102277\n",
      "Epoch  3  Iteration  699 Loss:  0.020529\n",
      "Epoch  3  Iteration  799 Loss:  0.00751536\n",
      "Epoch  3  Iteration  899 Loss:  0.0123889\n",
      "Epoch  3  Iteration  999 Loss:  0.00297122\n",
      "1.0\n",
      "Epoch  4  Iteration  99 Loss:  0.0187972\n",
      "Epoch  4  Iteration  199 Loss:  0.0406213\n",
      "Epoch  4  Iteration  299 Loss:  0.0217175\n",
      "Epoch  4  Iteration  399 Loss:  0.0244715\n",
      "Epoch  4  Iteration  499 Loss:  0.0200115\n",
      "Epoch  4  Iteration  599 Loss:  0.00767001\n",
      "Epoch  4  Iteration  699 Loss:  0.0144429\n",
      "Epoch  4  Iteration  799 Loss:  0.00235092\n",
      "Epoch  4  Iteration  899 Loss:  0.0102312\n",
      "Epoch  4  Iteration  999 Loss:  0.00141103\n",
      "1.0\n",
      "Epoch  5  Iteration  99 Loss:  0.012099\n",
      "Epoch  5  Iteration  199 Loss:  0.00993949\n",
      "Epoch  5  Iteration  299 Loss:  0.013848\n",
      "Epoch  5  Iteration  399 Loss:  0.0157207\n",
      "Epoch  5  Iteration  499 Loss:  0.00478268\n",
      "Epoch  5  Iteration  599 Loss:  0.00484873\n",
      "Epoch  5  Iteration  699 Loss:  0.00280109\n",
      "Epoch  5  Iteration  799 Loss:  0.00268633\n",
      "Epoch  5  Iteration  899 Loss:  0.00534344\n",
      "Epoch  5  Iteration  999 Loss:  0.00665135\n",
      "1.0\n",
      "Epoch  6  Iteration  99 Loss:  0.00415919\n",
      "Epoch  6  Iteration  199 Loss:  0.0024007\n",
      "Epoch  6  Iteration  299 Loss:  0.0196676\n",
      "Epoch  6  Iteration  399 Loss:  0.00402053\n",
      "Epoch  6  Iteration  499 Loss:  0.00102563\n",
      "Epoch  6  Iteration  599 Loss:  0.00458277\n",
      "Epoch  6  Iteration  699 Loss:  0.00886327\n",
      "Epoch  6  Iteration  799 Loss:  0.00360572\n",
      "Epoch  6  Iteration  899 Loss:  0.00424249\n",
      "Epoch  6  Iteration  999 Loss:  0.000466232\n",
      "0.984375\n",
      "Epoch  7  Iteration  99 Loss:  0.00195014\n",
      "Epoch  7  Iteration  199 Loss:  0.0236022\n",
      "Epoch  7  Iteration  299 Loss:  0.00568129\n",
      "Epoch  7  Iteration  399 Loss:  0.00302357\n",
      "Epoch  7  Iteration  499 Loss:  0.00283532\n",
      "Epoch  7  Iteration  599 Loss:  0.00358297\n",
      "Epoch  7  Iteration  699 Loss:  0.0143185\n",
      "Epoch  7  Iteration  799 Loss:  0.0027514\n",
      "Epoch  7  Iteration  899 Loss:  0.00355103\n",
      "Epoch  7  Iteration  999 Loss:  0.000583096\n",
      "0.984375\n",
      "Epoch  8  Iteration  99 Loss:  0.00165654\n",
      "Epoch  8  Iteration  199 Loss:  0.000789247\n",
      "Epoch  8  Iteration  299 Loss:  0.0168314\n",
      "Epoch  8  Iteration  399 Loss:  0.003542\n",
      "Epoch  8  Iteration  499 Loss:  0.00147214\n",
      "Epoch  8  Iteration  599 Loss:  0.0118096\n",
      "Epoch  8  Iteration  699 Loss:  0.00463875\n",
      "Epoch  8  Iteration  799 Loss:  0.00237775\n",
      "Epoch  8  Iteration  899 Loss:  0.00639284\n",
      "Epoch  8  Iteration  999 Loss:  0.0167004\n",
      "1.0\n",
      "Epoch  9  Iteration  99 Loss:  0.000954693\n",
      "Epoch  9  Iteration  199 Loss:  0.00236019\n",
      "Epoch  9  Iteration  299 Loss:  0.00742669\n",
      "Epoch  9  Iteration  399 Loss:  0.000894275\n",
      "Epoch  9  Iteration  499 Loss:  0.00115975\n",
      "Epoch  9  Iteration  599 Loss:  0.0245908\n",
      "Epoch  9  Iteration  699 Loss:  0.00651104\n",
      "Epoch  9  Iteration  799 Loss:  0.000571187\n",
      "Epoch  9  Iteration  899 Loss:  0.000373794\n",
      "Epoch  9  Iteration  999 Loss:  0.000495912\n",
      "1.0\n"
     ]
    }
   ],
   "source": [
    "train(input_pl,output_pl,train_step,loss,preds)"
   ]
  },
  {
   "cell_type": "code",
   "execution_count": 45,
   "metadata": {
    "collapsed": true
   },
   "outputs": [],
   "source": [
    "def iou(box1, box2):\n",
    "    x11,y11,x21,y21 = box1\n",
    "    x12,y12,x22,y22 = box2\n",
    "    x1 = max(x11,x12)\n",
    "    y1 = max(y11,y12)\n",
    "    x2 = min(x21,x22)\n",
    "    y2 = min(y21,y22)\n",
    "    inter_area = (x2-x1)*(y2-y1)\n",
    "    box1_area = (x21-x11)*(y21-y11)\n",
    "    box2_area = (x22-x12)*(y22-y12)\n",
    "    union_area = box1_area + box2_area - inter_area\n",
    "    iou = inter_area/union_area\n",
    "    return iou\n",
    "\n",
    "def get_sorted_idx(results):\n",
    "    prob = np.array([result['prob'] for result in results])\n",
    "    idx = np.argsort(prob)[::-1]\n",
    "    return idx\n",
    "\n",
    "def nms(results, prob_thresh, min_iou):\n",
    "    thres_results = []\n",
    "    for i in range(len(results)):\n",
    "        if(results[i]['prob'] > prob_thresh):\n",
    "            thres_results.append(results[i])\n",
    "\n",
    "    nms_results = []\n",
    "    if(len(thres_results) == 0):\n",
    "        return thres_results\n",
    "    thres_results = np.array(thres_results)\n",
    "    idx = get_sorted_idx(thres_results)\n",
    "    thres_results = thres_results[idx]\n",
    "    max_prob_result = thres_results[0]\n",
    "    nms_results.append(max_prob_result)\n",
    "    thres_results = thres_results[1:]\n",
    "\n",
    "    idx = get_sorted_idx(thres_results)\n",
    "    thres_results = thres_results[idx]\n",
    "\n",
    "    while(len(thres_results) > 0):\n",
    "        candidates = []\n",
    "        for i in range(len(thres_results)):\n",
    "            x1,y1,w1,h1 = thres_results[i]['region']\n",
    "            x2,y2,w2,h2 = max_prob_result['region']\n",
    "            if(iou((x1,y1,x1+w1,y1+h1),(x2,y2,x2+w2,y2+h2)) < min_iou):\n",
    "                print(iou((x1,y1,x1+w1,y1+h1),(x2,y2,x2+w2,y2+h2)))\n",
    "                candidates.append(thres_results[i])\n",
    "\n",
    "        if(len(candidates) == 0):\n",
    "            print(\"hello\")\n",
    "            break\n",
    "\n",
    "        candidates = np.array(candidates)\n",
    "        idx = get_sorted_idx(candidates)\n",
    "        candidates = candidates[idx]\n",
    "        max_prob_result = candidates[0]\n",
    "        thres_results = candidates[1:]\n",
    "        if(len(thres_results) ==0):\n",
    "            break\n",
    "        nms_results.append(max_prob_result)\n",
    "\n",
    "    return nms_results"
   ]
  },
  {
   "cell_type": "code",
   "execution_count": 147,
   "metadata": {
    "collapsed": true
   },
   "outputs": [],
   "source": [
    "def logo_recognition(sess, img, obj_proposal,input_pl,preds):\n",
    "    recog_results = {}\n",
    "    recog_results['region'] = obj_proposal\n",
    "    img = scale(img)\n",
    "\n",
    "    pred = sess.run(\n",
    "        [preds], feed_dict={input_pl: img})\n",
    "    recog_results['pred_class'] = CLASS_NAME[np.argmax(pred)]\n",
    "    recog_results['prob'] = np.max(pred)\n",
    "    return recog_results\n",
    "\n",
    "def detect_logos(images,input_pl,preds,sess):\n",
    "    for image in images:\n",
    "        img = skimage.io.imread(image)\n",
    "        img = img[:,:,0:3]\n",
    "        print(img.shape)\n",
    "        proposals = list(get_region_proposals(img))\n",
    "        preds_prob = []\n",
    "        preds_label = []\n",
    "        results =[]\n",
    "        for region in proposals:\n",
    "            x,y,w,h = region\n",
    "            crop_img = img[y:y+h,x:x+w]\n",
    "            crop_img = imresize(crop_img,(32,64,3),interp='bicubic')\n",
    "            crop_img = crop_img[None,:]\n",
    "            results.append(\n",
    "                logo_recognition(sess, crop_img, region,input_pl,preds))\n",
    "\n",
    "        del_idx = []\n",
    "        for i, result in enumerate(results):\n",
    "            if result['pred_class'] == CLASS_NAME[-1]:\n",
    "                del_idx.append(i)\n",
    "        results = np.delete(results, del_idx)\n",
    "        nms_results = nms(list(results),0.6,0.1)\n",
    "        fig, ax = plt.subplots(ncols=1, nrows=1, figsize=(6, 6))\n",
    "        ax.imshow(img)\n",
    "\n",
    "        for result in nms_results:\n",
    "            (x, y, w, h) = result['region']\n",
    "            ax.text(\n",
    "                x,\n",
    "                y,\n",
    "                result['pred_class'],\n",
    "                fontsize=13,\n",
    "                bbox=dict(facecolor='blue', alpha=0.7))\n",
    "            rect = mpatches.Rectangle(\n",
    "                (x, y), w, h, fill=False, edgecolor='blue', linewidth=5)\n",
    "            ax.add_patch(rect)\n",
    "        plt.savefig('results/' + image[len('test_images/'):], bbox_inches='tight')\n",
    "        plt.close(fig)"
   ]
  },
  {
   "cell_type": "code",
   "execution_count": 148,
   "metadata": {},
   "outputs": [],
   "source": [
    "images = os.listdir(\"test_images\")\n",
    "images = ['test_images/'+image for image in images]"
   ]
  },
  {
   "cell_type": "code",
   "execution_count": 149,
   "metadata": {},
   "outputs": [
    {
     "data": {
      "image/png": "[encoded data removed]",
      "text/plain": [
       "<matplotlib.figure.Figure at 0x7fc34fe7af60>"
      ]
     },
     "metadata": {},
     "output_type": "display_data"
    }
   ],
   "source": [
    "skimage.io.imshow(images[0])\n",
    "plt.show()"
   ]
  },
  {
   "cell_type": "code",
   "execution_count": 150,
   "metadata": {},
   "outputs": [
    {
     "data": {
      "text/plain": [
       "['test_images/puma-ignite-limitless-black.png',\n",
       " 'test_images/2180367311_Google.png',\n",
       " 'test_images/6651198_McDonalds.png',\n",
       " 'test_images/401253895_BMW.png',\n",
       " 'test_images/4273898682_DHL.png',\n",
       " 'test_images/puma-logo.jpg',\n",
       " 'test_images/3907703753_Fedex.png',\n",
       " 'test_images/3666600356_Cocacola.png']"
      ]
     },
     "execution_count": 150,
     "metadata": {},
     "output_type": "execute_result"
    }
   ],
   "source": [
    "images"
   ]
  },
  {
   "cell_type": "code",
   "execution_count": 151,
   "metadata": {},
   "outputs": [
    {
     "name": "stdout",
     "output_type": "stream",
     "text": [
      "Loading model checkpoint...\n",
      "INFO:tensorflow:Restoring parameters from checkpoints/logo\n",
      "(250, 300, 3)\n",
      "(401, 472, 3)\n",
      "(365, 472, 3)\n",
      "hello\n",
      "(448, 472, 3)\n",
      "hello\n",
      "(317, 472, 3)\n",
      "hello\n",
      "(960, 1280, 3)\n",
      "0.0\n",
      "0.0\n",
      "hello\n",
      "(326, 472, 3)\n",
      "hello\n",
      "(424, 472, 3)\n",
      "-0.3972413793103448\n"
     ]
    }
   ],
   "source": [
    "with tf.Session() as sess:\n",
    "    saver = tf.train.Saver()\n",
    "    sess.run(tf.global_variables_initializer())\n",
    "    ckpt = tf.train.latest_checkpoint(\"checkpoints/\")\n",
    "    if ckpt:\n",
    "        print(\"Loading model checkpoint...\")\n",
    "        saver.restore(sess,ckpt)\n",
    "    else:\n",
    "        print(\"No checkpoint found\")\n",
    "    detect_logos(images,input_pl,preds,sess)"
   ]
  },
  {
   "cell_type": "code",
   "execution_count": null,
   "metadata": {
    "collapsed": true
   },
   "outputs": [],
   "source": []
  }
 ],
 "metadata": {
  "kernelspec": {
   "display_name": "Python 3",
   "language": "python",
   "name": "python3"
  },
  "language_info": {
   "codemirror_mode": {
    "name": "ipython",
    "version": 3
   },
   "file_extension": ".py",
   "mimetype": "text/x-python",
   "name": "python",
   "nbconvert_exporter": "python",
   "pygments_lexer": "ipython3",
   "version": "3.6.2"
  }
 },
 "nbformat": 4,
 "nbformat_minor": 2
}
